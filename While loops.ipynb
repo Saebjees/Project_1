{
 "cells": [
  {
   "cell_type": "markdown",
   "metadata": {},
   "source": [
    "# While loops"
   ]
  },
  {
   "cell_type": "code",
   "execution_count": null,
   "metadata": {},
   "outputs": [],
   "source": [
    "for a in range(10):\n",
    "    print(a)"
   ]
  },
  {
   "cell_type": "code",
   "execution_count": null,
   "metadata": {},
   "outputs": [],
   "source": [
    "a=0\n",
    "while a<10:\n",
    "    print(a)\n",
    "    a=a+1"
   ]
  },
  {
   "cell_type": "code",
   "execution_count": null,
   "metadata": {},
   "outputs": [],
   "source": [
    "topping= []\n",
    "for a in range(5):\n",
    "    toppings=input(\"enter a toppings\")\n",
    "    topping.append(toppings)\n",
    "    \n",
    "print(topping)    "
   ]
  },
  {
   "cell_type": "code",
   "execution_count": null,
   "metadata": {},
   "outputs": [],
   "source": [
    "toppings=[]\n",
    "flag = True\n",
    "\n",
    "while flag:\n",
    "    topping = input('enter topping')\n",
    "    toppings.append(topping)\n",
    "    if topping == 'q':\n",
    "        flag = False\n",
    "    \n",
    "print(toppings)"
   ]
  },
  {
   "cell_type": "code",
   "execution_count": 2,
   "metadata": {},
   "outputs": [
    {
     "name": "stdout",
     "output_type": "stream",
     "text": [
      "enter toppingvhg\n",
      "enter toppinghkhk\n",
      "enter toppingq\n",
      "['vhg', 'hkhk']\n"
     ]
    }
   ],
   "source": [
    "toppings=[]\n",
    "flag = True\n",
    "\n",
    "while flag:\n",
    "    \n",
    "    topping = input('enter topping')\n",
    "    if topping == 'q':\n",
    "        flag = False\n",
    "    else:\n",
    "        toppings.append(topping)\n",
    "    \n",
    "print(toppings)"
   ]
  },
  {
   "cell_type": "code",
   "execution_count": null,
   "metadata": {},
   "outputs": [],
   "source": [
    "availableflavours = [\"fajita\", \"tikka\", \"spicy\"]\n",
    "availablesize = [\"small\", \"medium\", \"large\"]"
   ]
  }
 ],
 "metadata": {
  "kernelspec": {
   "display_name": "Python 3",
   "language": "python",
   "name": "python3"
  },
  "language_info": {
   "codemirror_mode": {
    "name": "ipython",
    "version": 3
   },
   "file_extension": ".py",
   "mimetype": "text/x-python",
   "name": "python",
   "nbconvert_exporter": "python",
   "pygments_lexer": "ipython3",
   "version": "3.7.3"
  }
 },
 "nbformat": 4,
 "nbformat_minor": 2
}
